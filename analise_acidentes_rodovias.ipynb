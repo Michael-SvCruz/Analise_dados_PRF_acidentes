{
 "cells": [
  {
   "cell_type": "code",
   "execution_count": 1,
   "metadata": {},
   "outputs": [],
   "source": [
    "import pandas as pd\n",
    "import numpy as np\n",
    "import matplotlib.pyplot as plt\n",
    "import seaborn as sns"
   ]
  },
  {
   "cell_type": "code",
   "execution_count": 4,
   "metadata": {},
   "outputs": [],
   "source": [
    "# lista do caminho dos arquivos em formato csv\n",
    "arquivos_csv = [\n",
    "    r'D:\\Projetos\\Analise_dados_PRF_acidentes\\files\\acidentes2020.csv',\n",
    "    r'D:\\Projetos\\Analise_dados_PRF_acidentes\\files\\acidentes2021.csv', \n",
    "    r'D:\\Projetos\\Analise_dados_PRF_acidentes\\files\\acidentes2022.csv',\n",
    "    r'D:\\Projetos\\Analise_dados_PRF_acidentes\\files\\acidentes2023.csv'\n",
    "]"
   ]
  },
  {
   "cell_type": "code",
   "execution_count": 5,
   "metadata": {},
   "outputs": [],
   "source": [
    "# lista de arquivos armazenados\n",
    "dfs = []\n",
    "\n",
    "#lê cada arquivo e inclui na lista dfs\n",
    "for arquivo in arquivos_csv:\n",
    "    df = pd.read_csv(arquivo, delimiter=';', encoding='ISO-8859-1')\n",
    "    dfs.append(df)\n",
    "\n"
   ]
  },
  {
   "cell_type": "code",
   "execution_count": 6,
   "metadata": {},
   "outputs": [],
   "source": [
    "# concatena os arquivos da lista dfs\n",
    "df_final = pd.concat(dfs, axis=0, ignore_index=True)"
   ]
  },
  {
   "cell_type": "code",
   "execution_count": 7,
   "metadata": {},
   "outputs": [
    {
     "data": {
      "text/plain": [
       "(576136, 35)"
      ]
     },
     "execution_count": 7,
     "metadata": {},
     "output_type": "execute_result"
    }
   ],
   "source": [
    "df_final.shape"
   ]
  },
  {
   "cell_type": "code",
   "execution_count": null,
   "metadata": {},
   "outputs": [],
   "source": []
  }
 ],
 "metadata": {
  "kernelspec": {
   "display_name": "Python 3",
   "language": "python",
   "name": "python3"
  },
  "language_info": {
   "codemirror_mode": {
    "name": "ipython",
    "version": 3
   },
   "file_extension": ".py",
   "mimetype": "text/x-python",
   "name": "python",
   "nbconvert_exporter": "python",
   "pygments_lexer": "ipython3",
   "version": "3.10.11"
  }
 },
 "nbformat": 4,
 "nbformat_minor": 2
}
